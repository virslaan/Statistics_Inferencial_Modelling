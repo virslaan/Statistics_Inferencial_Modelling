{
 "cells": [
  {
   "cell_type": "markdown",
   "id": "8c6ef556",
   "metadata": {},
   "source": [
    "## Answer 4.4\n",
    "\n",
    "### X is normal is nature \n",
    "### We have to run iterations n=1000"
   ]
  },
  {
   "cell_type": "code",
   "execution_count": 1,
   "id": "3acf1be3",
   "metadata": {},
   "outputs": [],
   "source": [
    "import numpy as np\n",
    "\n",
    "n = 1000\n",
    "mu_x = 0\n",
    "sigma_x = 1\n",
    "X = np.random.normal(mu_x, sigma_x, n)\n",
    "beta = 5\n",
    "sigma = 3\n",
    "Yandx = []\n",
    "for i in range (n):\n",
    "  mu  = beta* X[i]\n",
    "  temp = np.random.normal(mu, sigma, 1)[0]\n",
    "  Yandx.append(temp)"
   ]
  },
  {
   "cell_type": "code",
   "execution_count": null,
   "id": "e2c041ff",
   "metadata": {},
   "outputs": [],
   "source": []
  },
  {
   "cell_type": "code",
   "execution_count": 19,
   "id": "75922dba",
   "metadata": {},
   "outputs": [
    {
     "name": "stdout",
     "output_type": "stream",
     "text": [
      "Beta Hat= 5.0\n"
     ]
    }
   ],
   "source": [
    "missing_val_ind = np.where(np.abs(X)>2 , 1,0)\n",
    "def filter_data(X,Yandx,missing_idx):\n",
    "  X_new = []\n",
    "  Y_new = []\n",
    "  for i in range(len(missing_idx)):\n",
    "    if missing_val_ind[i] == 0 :\n",
    "      X_new.append(X[i])\n",
    "      Y_new.append(Yandx[i])\n",
    "  return X_new,Y_new\n",
    "# beta_hat = sum xiyi/sum xi**2\n",
    "def get_beta_hat(X,Y):\n",
    "  numer = 0\n",
    "  denom = 0\n",
    "  for i in range(len(X)):\n",
    "    numer+= X[i]*Y[i]\n",
    "    denom+= X[i]**2\n",
    "  beta_hat = numer/denom\n",
    "  return beta_hat\n",
    "X_new,Y_new = filter_data(X,Yandx,missing_val_ind)\n",
    "beta_hat = get_beta_hat(X_new,Y_new)\n",
    "\n",
    "print(\"Beta Hat= {:0.1f}\".format(beta_hat))\n"
   ]
  },
  {
   "cell_type": "code",
   "execution_count": 38,
   "id": "938a12fb",
   "metadata": {},
   "outputs": [
    {
     "data": {
      "text/plain": [
       "(array([  3.,  17.,  54., 160., 255., 222., 182.,  79.,  24.,   4.]),\n",
       " array([-3.56244834, -2.87000028, -2.17755222, -1.48510416, -0.7926561 ,\n",
       "        -0.10020803,  0.59224003,  1.28468809,  1.97713615,  2.66958421,\n",
       "         3.36203228]),\n",
       " <BarContainer object of 10 artists>)"
      ]
     },
     "execution_count": 38,
     "metadata": {},
     "output_type": "execute_result"
    },
    {
     "data": {
      "image/png": "[encoded data removed]",
      "text/plain": [
       "<Figure size 432x288 with 1 Axes>"
      ]
     },
     "metadata": {
      "needs_background": "light"
     },
     "output_type": "display_data"
    }
   ],
   "source": [
    "import seaborn as sns\n",
    "import matplotlib.pyplot as plt\n",
    "plt.hist(X_new)\n"
   ]
  },
  {
   "cell_type": "code",
   "execution_count": 52,
   "id": "c7a9e76b",
   "metadata": {},
   "outputs": [
    {
     "data": {
      "text/plain": [
       "(array([  5.,  18.,  86., 173., 244., 228., 161.,  64.,  19.,   2.]),\n",
       " array([-19.37088293, -15.43266722, -11.49445151,  -7.55623579,\n",
       "         -3.61802008,   0.32019564,   4.25841135,   8.19662706,\n",
       "         12.13484278,  16.07305849,  20.01127421]),\n",
       " <BarContainer object of 10 artists>)"
      ]
     },
     "execution_count": 52,
     "metadata": {},
     "output_type": "execute_result"
    },
    {
     "data": {
      "image/png": "[encoded data removed]",
      "text/plain": [
       "<Figure size 432x288 with 1 Axes>"
      ]
     },
     "metadata": {
      "needs_background": "light"
     },
     "output_type": "display_data"
    }
   ],
   "source": [
    "plt.hist(Y_new)"
   ]
  },
  {
   "cell_type": "code",
   "execution_count": 57,
   "id": "2516f108",
   "metadata": {},
   "outputs": [
    {
     "data": {
      "text/plain": [
       "(array([0., 0., 0., 0., 0., 1., 0., 0., 0., 0.]),\n",
       " array([4.47340283, 4.57340283, 4.67340283, 4.77340283, 4.87340283,\n",
       "        4.97340283, 5.07340283, 5.17340283, 5.27340283, 5.37340283,\n",
       "        5.47340283]),\n",
       " <BarContainer object of 10 artists>)"
      ]
     },
     "execution_count": 57,
     "metadata": {},
     "output_type": "execute_result"
    },
    {
     "data": {
      "image/png": "[encoded data removed]",
      "text/plain": [
       "<Figure size 432x288 with 1 Axes>"
      ]
     },
     "metadata": {
      "needs_background": "light"
     },
     "output_type": "display_data"
    }
   ],
   "source": [
    "plt.hist(beta_hat)"
   ]
  },
  {
   "cell_type": "markdown",
   "id": "7a120e0c",
   "metadata": {},
   "source": [
    "#### The beta hat is consistent with the original beta with is set at = 5, (on rounding off as noticed)"
   ]
  },
  {
   "cell_type": "markdown",
   "id": "9cf096ba",
   "metadata": {},
   "source": [
    "## Answer 4.5"
   ]
  },
  {
   "cell_type": "code",
   "execution_count": 20,
   "id": "57662965",
   "metadata": {},
   "outputs": [
    {
     "name": "stdout",
     "output_type": "stream",
     "text": [
      "Beta Hat=5.0\n"
     ]
    }
   ],
   "source": [
    "gamma_0 = 1\n",
    "gamma_1 = 2\n",
    "a = gamma_0 + gamma_1*X\n",
    "missingProbability = np.exp(a)/(1+np.exp(a))\n",
    "missing_val_ind = np.where(missingProbability==1.0 , 1,0)\n",
    "X_new,Y_new = filter_data(X,Yandx,missing_val_ind)\n",
    "beta_hat = get_beta_hat(X_new,Y_new)\n",
    "print(\"Beta Hat={:0.1f}\".format(beta_hat))\n"
   ]
  },
  {
   "cell_type": "markdown",
   "id": "a0f290be",
   "metadata": {},
   "source": [
    "When the missing values are removed based on the condition in 4.5 we can still use beta hat as a consistent estimator."
   ]
  },
  {
   "cell_type": "code",
   "execution_count": 58,
   "id": "2129fa47",
   "metadata": {},
   "outputs": [
    {
     "data": {
      "text/plain": [
       "(array([0., 0., 0., 0., 0., 1., 0., 0., 0., 0.]),\n",
       " array([4.47340283, 4.57340283, 4.67340283, 4.77340283, 4.87340283,\n",
       "        4.97340283, 5.07340283, 5.17340283, 5.27340283, 5.37340283,\n",
       "        5.47340283]),\n",
       " <BarContainer object of 10 artists>)"
      ]
     },
     "execution_count": 58,
     "metadata": {},
     "output_type": "execute_result"
    },
    {
     "data": {
      "image/png": "[encoded data removed]",
      "text/plain": [
       "<Figure size 432x288 with 1 Axes>"
      ]
     },
     "metadata": {
      "needs_background": "light"
     },
     "output_type": "display_data"
    }
   ],
   "source": [
    "plt.hist(beta_hat)"
   ]
  }
 ],
 "metadata": {
  "kernelspec": {
   "display_name": "Python 3",
   "language": "python",
   "name": "python3"
  },
  "language_info": {
   "codemirror_mode": {
    "name": "ipython",
    "version": 3
   },
   "file_extension": ".py",
   "mimetype": "text/x-python",
   "name": "python",
   "nbconvert_exporter": "python",
   "pygments_lexer": "ipython3",
   "version": "3.8.8"
  }
 },
 "nbformat": 4,
 "nbformat_minor": 5
}
